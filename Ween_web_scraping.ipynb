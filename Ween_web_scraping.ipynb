{
 "cells": [
  {
   "cell_type": "code",
   "execution_count": 1,
   "metadata": {},
   "outputs": [],
   "source": [
    "import pandas as pd\n",
    "import requests\n",
    "from bs4 import BeautifulSoup"
   ]
  },
  {
   "cell_type": "code",
   "execution_count": 155,
   "metadata": {},
   "outputs": [],
   "source": [
    "\n",
    "\n",
    "def ween_lyric_df():\n",
    "    \"\"\"Function specifically for scraping genius for ween lyrics\"\"\"\n",
    "    \n",
    "    #create empty lists to collect and store the data in before adding to df\n",
    "    title_l = []\n",
    "    album_l = []\n",
    "    lyric_l = []\n",
    "    year_l = []\n",
    "    \n",
    "    #load the page and convert to parseable 'soup'\n",
    "    page = requests.get(\"https://genius.com/artists/albums?for_artist_page=30607&id=Ween\")\n",
    "    soup = BeautifulSoup(page.content, 'html.parser')\n",
    "    \n",
    "    #scrape info for all the albums\n",
    "    albums = soup.find_all(class_ = \"album_link\")\n",
    "    \n",
    "    for alb in albums:\n",
    "        alb_title = alb.text\n",
    "        alb_url = \"https://genius.com\" + alb['href']\n",
    "\n",
    "        alb_page = requests.get(alb_url)\n",
    "        alb_soup = BeautifulSoup(alb_page.content, 'html.parser')\n",
    "    \n",
    "        try:\n",
    "            alb_year = int(alb_soup.find(class_ = \"metadata_unit\").text.split()[-1])\n",
    "        except:\n",
    "            alb_year = 0\n",
    "            print('year error:', alb_title)\n",
    "\n",
    "        alb_songs = alb_soup.find_all(class_ = \"u-display_block\")\n",
    "\n",
    "        for i, song in enumerate(alb_songs):\n",
    "            title = song.text.replace('Lyrics','').strip()\n",
    "            album = alb_title\n",
    "\n",
    "            url = song['href']\n",
    "            songpage = requests.get(url)\n",
    "            songsoup = BeautifulSoup(songpage.content, 'html.parser')\n",
    "            \n",
    "            try:\n",
    "                lyric = songsoup.find(class_ = \"lyrics\").text\n",
    "            except:\n",
    "                lyric = \"None\"\n",
    "                print(\"lyric error:\", title)\n",
    "\n",
    "            title_l.append(title)\n",
    "            album_l.append(album)\n",
    "            lyric_l.append(lyric)\n",
    "            year_l.append(alb_year)\n",
    "        \n",
    "        \n",
    "    df = pd.DataFrame({'album': album_l,\n",
    "                       'title': title_l,\n",
    "                       'lyrics': lyric_l,\n",
    "                       'year': year_l\n",
    "                      })\n",
    "    return df\n",
    "            \n",
    "        "
   ]
  },
  {
   "cell_type": "code",
   "execution_count": 157,
   "metadata": {},
   "outputs": [
    {
     "name": "stdout",
     "output_type": "stream",
     "text": [
      "lyric error: All That's Gold Will Turn To Black\n",
      "year error: Bilboa\n"
     ]
    }
   ],
   "source": [
    "ween_df = ween_lyric_df()"
   ]
  },
  {
   "cell_type": "code",
   "execution_count": null,
   "metadata": {},
   "outputs": [],
   "source": [
    "ween_df.to_csv('ween_lyrics')"
   ]
  },
  {
   "cell_type": "markdown",
   "metadata": {},
   "source": [
    "Below is not important, just things I tried to get to the function above"
   ]
  },
  {
   "cell_type": "code",
   "execution_count": 6,
   "metadata": {},
   "outputs": [],
   "source": [
    "page = requests.get(\"https://genius.com/artists/albums?for_artist_page=30607&id=Ween\")\n",
    "soup = BeautifulSoup(page.content, 'html.parser')"
   ]
  },
  {
   "cell_type": "code",
   "execution_count": 34,
   "metadata": {},
   "outputs": [],
   "source": [
    "#scrape info for all the albums\n",
    "albums = soup.find_all(class_ = \"album_link\")"
   ]
  },
  {
   "cell_type": "code",
   "execution_count": 110,
   "metadata": {},
   "outputs": [
    {
     "data": {
      "text/plain": [
       "'Chocolate and Cheese'"
      ]
     },
     "execution_count": 110,
     "metadata": {},
     "output_type": "execute_result"
    }
   ],
   "source": [
    "albums[5].text"
   ]
  },
  {
   "cell_type": "code",
   "execution_count": 126,
   "metadata": {},
   "outputs": [
    {
     "data": {
      "text/plain": [
       "1994"
      ]
     },
     "execution_count": 126,
     "metadata": {},
     "output_type": "execute_result"
    }
   ],
   "source": [
    "int(cac_soup.find(class_ = \"metadata_unit\").text.split()[-1])"
   ]
  },
  {
   "cell_type": "code",
   "execution_count": 124,
   "metadata": {},
   "outputs": [
    {
     "data": {
      "text/plain": [
       "'1994'"
      ]
     },
     "execution_count": 124,
     "metadata": {},
     "output_type": "execute_result"
    }
   ],
   "source": [
    "date.text.split()[-1]"
   ]
  },
  {
   "cell_type": "code",
   "execution_count": 118,
   "metadata": {},
   "outputs": [],
   "source": [
    "date"
   ]
  },
  {
   "cell_type": "code",
   "execution_count": 65,
   "metadata": {},
   "outputs": [],
   "source": [
    "#trying stuff for chocolate and cheese (index 5)\n",
    "cac_url = \"https://genius.com\" + albums[5]['href']\n",
    "\n",
    "cac_page = requests.get(cac_url)\n",
    "cac_soup = BeautifulSoup(cac_page.content, 'html.parser')\n",
    "\n",
    "\n",
    "cac_songs = cac_soup.find_all(class_ = \"u-display_block\")\n",
    "cac_1_url = cac_songs[0]['href']  #webpage for first song (index 0)"
   ]
  },
  {
   "cell_type": "code",
   "execution_count": 98,
   "metadata": {},
   "outputs": [
    {
     "data": {
      "text/plain": [
       "\"I Can't Put My Finger On It\""
      ]
     },
     "execution_count": 98,
     "metadata": {},
     "output_type": "execute_result"
    }
   ],
   "source": [
    "cac_songs[3].text.replace('Lyrics','').strip()"
   ]
  },
  {
   "cell_type": "code",
   "execution_count": 161,
   "metadata": {},
   "outputs": [
    {
     "data": {
      "text/html": [
       "<div>\n",
       "<style scoped>\n",
       "    .dataframe tbody tr th:only-of-type {\n",
       "        vertical-align: middle;\n",
       "    }\n",
       "\n",
       "    .dataframe tbody tr th {\n",
       "        vertical-align: top;\n",
       "    }\n",
       "\n",
       "    .dataframe thead th {\n",
       "        text-align: right;\n",
       "    }\n",
       "</style>\n",
       "<table border=\"1\" class=\"dataframe\">\n",
       "  <thead>\n",
       "    <tr style=\"text-align: right;\">\n",
       "      <th></th>\n",
       "      <th>year</th>\n",
       "    </tr>\n",
       "  </thead>\n",
       "  <tbody>\n",
       "    <tr>\n",
       "      <th>count</th>\n",
       "      <td>347.000000</td>\n",
       "    </tr>\n",
       "    <tr>\n",
       "      <th>mean</th>\n",
       "      <td>1990.515850</td>\n",
       "    </tr>\n",
       "    <tr>\n",
       "      <th>std</th>\n",
       "      <td>107.498927</td>\n",
       "    </tr>\n",
       "    <tr>\n",
       "      <th>min</th>\n",
       "      <td>0.000000</td>\n",
       "    </tr>\n",
       "    <tr>\n",
       "      <th>25%</th>\n",
       "      <td>1990.000000</td>\n",
       "    </tr>\n",
       "    <tr>\n",
       "      <th>50%</th>\n",
       "      <td>1994.000000</td>\n",
       "    </tr>\n",
       "    <tr>\n",
       "      <th>75%</th>\n",
       "      <td>2005.000000</td>\n",
       "    </tr>\n",
       "    <tr>\n",
       "      <th>max</th>\n",
       "      <td>2011.000000</td>\n",
       "    </tr>\n",
       "  </tbody>\n",
       "</table>\n",
       "</div>"
      ],
      "text/plain": [
       "              year\n",
       "count   347.000000\n",
       "mean   1990.515850\n",
       "std     107.498927\n",
       "min       0.000000\n",
       "25%    1990.000000\n",
       "50%    1994.000000\n",
       "75%    2005.000000\n",
       "max    2011.000000"
      ]
     },
     "execution_count": 161,
     "metadata": {},
     "output_type": "execute_result"
    }
   ],
   "source": [
    "ween_df.describe()"
   ]
  },
  {
   "cell_type": "code",
   "execution_count": 148,
   "metadata": {},
   "outputs": [
    {
     "name": "stdout",
     "output_type": "stream",
     "text": [
      "error: All That's Gold Will Turn To Black\n"
     ]
    }
   ],
   "source": [
    "page = requests.get(\"https://genius.com/artists/albums?for_artist_page=30607&id=Ween\")\n",
    "soup = BeautifulSoup(page.content, 'html.parser')\n",
    "\n",
    "#scrape info for all the albums\n",
    "albums = soup.find_all(class_ = \"album_link\")\n",
    "\n",
    "for alb in albums[:4]:\n",
    "    alb_title = alb.text\n",
    "    alb_url = \"https://genius.com\" + alb['href']\n",
    "\n",
    "    alb_page = requests.get(alb_url)\n",
    "    alb_soup = BeautifulSoup(alb_page.content, 'html.parser')\n",
    "\n",
    "    alb_year = int(alb_soup.find(class_ = \"metadata_unit\").text.split()[-1])\n",
    "\n",
    "    alb_songs = alb_soup.find_all(class_ = \"u-display_block\")\n",
    "\n",
    "    for i, song in enumerate(alb_songs):\n",
    "        title = song.text.replace('Lyrics','').strip()\n",
    "        album = alb_title\n",
    "\n",
    "        url = song['href']\n",
    "        songpage = requests.get(url)\n",
    "        songsoup = BeautifulSoup(songpage.content, 'html.parser')\n",
    "        \n",
    "        try:  \n",
    "            lyric = songsoup.find(class_ = \"lyrics\").text\n",
    "        except:\n",
    "            print(\"error:\", title)\n",
    "\n"
   ]
  },
  {
   "cell_type": "code",
   "execution_count": 149,
   "metadata": {},
   "outputs": [
    {
     "data": {
      "text/plain": [
       "'\\n\\nFluffy, furry buddy, chewed his leg on the porch\\nWhy¹d you do it Fluffy - on the porch\\nGood dog Fluffy, old friend, my pal\\n\\nFluffy¹s got his buddy, on the porch\\nPenny - she¹s my girlie, she sits here with me, on the porch\\nPenny looks so pretty, on the porch\\nPenny takes Fluffy -- for a walk -- out on the path\\n\\nFluffy chases the other doggies -- on the path\\nThe pig says to Penny get Fluffy back on the porch\\nSo me and Fluffy and Penny are on the Porch\\n\\n'"
      ]
     },
     "execution_count": 149,
     "metadata": {},
     "output_type": "execute_result"
    }
   ],
   "source": [
    "lyric"
   ]
  },
  {
   "cell_type": "code",
   "execution_count": 102,
   "metadata": {},
   "outputs": [],
   "source": [
    "def cac(cac_songs):\n",
    "    \n",
    "    df = pd.DataFrame({})\n",
    "    \n",
    "    title_l = []\n",
    "    album_l = []\n",
    "    lyric_l = []\n",
    "    \n",
    "    for i, song in enumerate(cac_songs):\n",
    "        title = song.text.replace('Lyrics','').strip()\n",
    "        album = 'Chocolate and Cheese'\n",
    "        \n",
    "        url = song['href']\n",
    "        songpage = requests.get(url)\n",
    "        songsoup = BeautifulSoup(songpage.content, 'html.parser')\n",
    "        lyric = songsoup.find(class_ = \"lyrics\").text\n",
    "        \n",
    "        title_l.append(title)\n",
    "        album_l.append(album)\n",
    "        lyric_l.append(lyric)\n",
    "        \n",
    "    df = pd.DataFrame({'album': album_l,\n",
    "                       'title': title_l,\n",
    "                       'lyrics': lyric_l\n",
    "                      })\n",
    "    return df\n",
    "            \n",
    "            \n",
    "        "
   ]
  },
  {
   "cell_type": "code",
   "execution_count": 103,
   "metadata": {},
   "outputs": [],
   "source": [
    "cacdf  = cac(cac_songs)"
   ]
  },
  {
   "cell_type": "code",
   "execution_count": 107,
   "metadata": {},
   "outputs": [
    {
     "data": {
      "text/plain": [
       "'Take me away to some other land\\nI gotta get away from that girl before I go crazy\\nShe took my love away\\nShe took it to another man\\nNow I gotta get away from that girl\\nBefore I go crazy\\n\\nTake me away to some other land\\nI gotta get away from that girl before I go crazy\\nShe took my love away\\nShe took it to another man\\nNow I gotta get away from that girl\\nBefore I go crazy\\n\\nTake me away to some other land\\nI gotta get away from that girl before I go crazy\\nShe took my love away\\nShe took it to another man\\nNow I gotta get away from that girl\\nBefore I go crazy\\n\\nTake me, take me away\\n\\nGotta get away\\nCrazy\\nShe took my love away\\nNow I gotta get away\\n\\nTake me away to some other land\\nI gotta get away from that girl before she drives me crazy\\nShe took my love away\\nShe took it to another man\\nNow I gotta get away from that girl before she drives me crazy'"
      ]
     },
     "execution_count": 107,
     "metadata": {},
     "output_type": "execute_result"
    }
   ],
   "source": [
    "cacdf['lyrics'][0].strip()"
   ]
  },
  {
   "cell_type": "code",
   "execution_count": 73,
   "metadata": {},
   "outputs": [
    {
     "data": {
      "text/plain": [
       "'\\n\\nTake me away to some other land\\nI gotta get away from that girl before I go crazy\\nShe took my love away\\nShe took it to another man\\nNow I gotta get away from that girl\\nBefore I go crazy\\n\\nTake me away to some other land\\nI gotta get away from that girl before I go crazy\\nShe took my love away\\nShe took it to another man\\nNow I gotta get away from that girl\\nBefore I go crazy\\n\\nTake me away to some other land\\nI gotta get away from that girl before I go crazy\\nShe took my love away\\nShe took it to another man\\nNow I gotta get away from that girl\\nBefore I go crazy\\n\\nTake me, take me away\\n\\nGotta get away\\nCrazy\\nShe took my love away\\nNow I gotta get away\\n\\nTake me away to some other land\\nI gotta get away from that girl before she drives me crazy\\nShe took my love away\\nShe took it to another man\\nNow I gotta get away from that girl before she drives me crazy\\n\\n'"
      ]
     },
     "execution_count": 73,
     "metadata": {},
     "output_type": "execute_result"
    }
   ],
   "source": [
    "cac_1_soup.find(class_ = \"lyrics\").text"
   ]
  },
  {
   "cell_type": "code",
   "execution_count": 66,
   "metadata": {},
   "outputs": [],
   "source": [
    "#trying stuff for song 1\n",
    "\n",
    "cac_1_page = requests.get(cac_1_url)\n",
    "cac_1_soup = BeautifulSoup(cac_1_page.content, 'html.parser')\n",
    "\n",
    "\n",
    "\n"
   ]
  },
  {
   "cell_type": "code",
   "execution_count": 79,
   "metadata": {},
   "outputs": [
    {
     "data": {
      "text/plain": [
       "'https://genius.com/Ween-take-me-away-lyrics'"
      ]
     },
     "execution_count": 79,
     "metadata": {},
     "output_type": "execute_result"
    }
   ],
   "source": [
    "cac_1_url"
   ]
  },
  {
   "cell_type": "code",
   "execution_count": 70,
   "metadata": {},
   "outputs": [],
   "source": [
    "cac_1_lyric = cac_1_soup.find(class_ = \"lyrics\")"
   ]
  },
  {
   "cell_type": "code",
   "execution_count": 77,
   "metadata": {},
   "outputs": [
    {
     "data": {
      "text/plain": [
       "<div class=\"lyrics\">\n",
       "<!--sse-->\n",
       "<p>Take me away to some other land<br/>\n",
       "I gotta get away from that girl before I go crazy<br/>\n",
       "She took my love away<br/>\n",
       "She took it to another man<br/>\n",
       "Now I gotta get away from that girl<br/>\n",
       "Before I go crazy<br/>\n",
       "<br/>\n",
       "Take me away to some other land<br/>\n",
       "I gotta get away from that girl before I go crazy<br/>\n",
       "She took my love away<br/>\n",
       "She took it to another man<br/>\n",
       "Now I gotta get away from that girl<br/>\n",
       "Before I go crazy<br/>\n",
       "<br/>\n",
       "Take me away to some other land<br/>\n",
       "I gotta get away from that girl before I go crazy<br/>\n",
       "She took my love away<br/>\n",
       "She took it to another man<br/>\n",
       "Now I gotta get away from that girl<br/>\n",
       "Before I go crazy<br/>\n",
       "<br/>\n",
       "Take me, take me away<br/>\n",
       "<br/>\n",
       "Gotta get away<br/>\n",
       "Crazy<br/>\n",
       "She took my love away<br/>\n",
       "Now I gotta get away<br/>\n",
       "<br/>\n",
       "Take me away to some other land<br/>\n",
       "I gotta get away from that girl before she drives me crazy<br/>\n",
       "She took my love away<br/>\n",
       "She took it to another man<br/>\n",
       "Now I gotta get away from that girl before she drives me crazy</p>\n",
       "<!--/sse-->\n",
       "</div>"
      ]
     },
     "execution_count": 77,
     "metadata": {},
     "output_type": "execute_result"
    }
   ],
   "source": [
    "cac_1_lyric"
   ]
  }
 ],
 "metadata": {
  "kernelspec": {
   "display_name": "Python 3",
   "language": "python",
   "name": "python3"
  },
  "language_info": {
   "codemirror_mode": {
    "name": "ipython",
    "version": 3
   },
   "file_extension": ".py",
   "mimetype": "text/x-python",
   "name": "python",
   "nbconvert_exporter": "python",
   "pygments_lexer": "ipython3",
   "version": "3.6.5"
  },
  "varInspector": {
   "cols": {
    "lenName": 16,
    "lenType": 16,
    "lenVar": 40
   },
   "kernels_config": {
    "python": {
     "delete_cmd_postfix": "",
     "delete_cmd_prefix": "del ",
     "library": "var_list.py",
     "varRefreshCmd": "print(var_dic_list())"
    },
    "r": {
     "delete_cmd_postfix": ") ",
     "delete_cmd_prefix": "rm(",
     "library": "var_list.r",
     "varRefreshCmd": "cat(var_dic_list()) "
    }
   },
   "types_to_exclude": [
    "module",
    "function",
    "builtin_function_or_method",
    "instance",
    "_Feature"
   ],
   "window_display": false
  }
 },
 "nbformat": 4,
 "nbformat_minor": 2
}
