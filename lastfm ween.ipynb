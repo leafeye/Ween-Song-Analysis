{
 "cells": [
  {
   "cell_type": "code",
   "execution_count": 1,
   "metadata": {},
   "outputs": [],
   "source": [
    "import pandas as pd\n",
    "import requests\n",
    "from bs4 import BeautifulSoup"
   ]
  },
  {
   "cell_type": "code",
   "execution_count": 42,
   "metadata": {},
   "outputs": [],
   "source": [
    "albums = ['https://www.last.fm/music/Ween/God+Ween+Satan:+The+Oneness+%5Banniversary+Edition%5D',\n",
    "         'https://www.last.fm/music/Ween/The+Pod',\n",
    "         'https://www.last.fm/music/Ween/Pure+Guava',\n",
    "         'https://www.last.fm/music/Ween/Chocolate+&+Cheese',\n",
    "         'https://www.last.fm/music/Ween/12+Golden+Country+Greats',\n",
    "         'https://www.last.fm/music/Ween/The+Mollusk',\n",
    "         'https://www.last.fm/music/Ween/White+Pepper',\n",
    "         'https://www.last.fm/music/Ween/Quebec',\n",
    "         'https://www.last.fm/music/Ween/Shinola+(Vol.+1)',\n",
    "         'https://www.last.fm/music/Ween/La+Cucaracha']"
   ]
  },
  {
   "cell_type": "code",
   "execution_count": 56,
   "metadata": {},
   "outputs": [],
   "source": [
    "def lastfm_scraper(albums):\n",
    "    alb_l = []\n",
    "    tr_l = []\n",
    "    scr_l = []\n",
    "    lis_l = []\n",
    "    \n",
    "    for album in albums:\n",
    "        \n",
    "        alb_page = requests.get(album)\n",
    "        alb_soup = BeautifulSoup(alb_page.content, 'html.parser')\n",
    "        alb_title = alb_soup.find(class_ = 'header-title').text.strip()\n",
    "        \n",
    "        tracks = alb_soup.find_all(class_ = 'chartlist-ellipsis-wrap')\n",
    "        \n",
    "        for i, tr in enumerate(tracks):\n",
    "            paste = tr.find(class_ = 'link-block-target')['href']\n",
    "            link = \"https://www.last.fm/\" + paste\n",
    "            \n",
    "            tr_page = requests.get(link)\n",
    "            tr_soup = BeautifulSoup(tr_page.content, 'html.parser')\n",
    "            \n",
    "            #title\n",
    "            try:\n",
    "                end = tr_soup.find(class_ = 'header-title').text.strip().find('\\n')\n",
    "                track = tr_soup.find(class_ = 'header-title').text.strip()[:end]\n",
    "            except:\n",
    "                print(\"error: \", alb_title, i)\n",
    "                track = alb_title + \" \" + str(i)\n",
    "            \n",
    "            data = tr_soup.find(class_ = 'header-metadata').find_all(class_ = \"intabbr\")\n",
    "            scr = data[0].text\n",
    "            lis = data[1].text\n",
    "            \n",
    "            alb_l.append(alb_title)\n",
    "            tr_l.append(track)\n",
    "            scr_l.append(scr)\n",
    "            lis_l.append(lis)\n",
    "    \n",
    "    df = pd.DataFrame({'album': alb_l,\n",
    "                      'track': tr_l,\n",
    "                      'scrobbbles': scr_l,\n",
    "                      'listeners': lis_l})\n",
    "    \n",
    "    return df"
   ]
  },
  {
   "cell_type": "markdown",
   "metadata": {},
   "source": [
    "Because of connection errors, not all albums in one run"
   ]
  },
  {
   "cell_type": "code",
   "execution_count": 60,
   "metadata": {},
   "outputs": [],
   "source": [
    "#gws en the pod\n",
    "gws_tp_lf = lastfm_scraper(albums[:2])"
   ]
  },
  {
   "cell_type": "code",
   "execution_count": 63,
   "metadata": {},
   "outputs": [],
   "source": [
    "pg_cc = lastfm_scraper(albums[2:4])"
   ]
  },
  {
   "cell_type": "code",
   "execution_count": 66,
   "metadata": {},
   "outputs": [],
   "source": [
    "gcg_tm = lastfm_scraper(albums[4:6])"
   ]
  },
  {
   "cell_type": "code",
   "execution_count": 68,
   "metadata": {},
   "outputs": [],
   "source": [
    "wp_q = lastfm_scraper(albums[6:8])"
   ]
  },
  {
   "cell_type": "code",
   "execution_count": 70,
   "metadata": {},
   "outputs": [],
   "source": [
    "sh_lc = lastfm_scraper(albums[8:10])"
   ]
  },
  {
   "cell_type": "code",
   "execution_count": 76,
   "metadata": {},
   "outputs": [],
   "source": [
    "lastfm = pd.concat([gws_tp_lf, pg_cc, gcg_tm, wp_q, sh_lc], axis=0)"
   ]
  },
  {
   "cell_type": "code",
   "execution_count": 78,
   "metadata": {},
   "outputs": [],
   "source": [
    "lastfm['track_nr'] = lastfm.index + 1"
   ]
  },
  {
   "cell_type": "code",
   "execution_count": 83,
   "metadata": {},
   "outputs": [],
   "source": [
    "lastfm = lastfm.reset_index().drop(columns='index')"
   ]
  },
  {
   "cell_type": "code",
   "execution_count": 85,
   "metadata": {},
   "outputs": [],
   "source": [
    "lastfm.to_csv('lastfm.csv', index=False)"
   ]
  },
  {
   "cell_type": "code",
   "execution_count": null,
   "metadata": {},
   "outputs": [],
   "source": []
  },
  {
   "cell_type": "code",
   "execution_count": null,
   "metadata": {},
   "outputs": [],
   "source": []
  },
  {
   "cell_type": "code",
   "execution_count": null,
   "metadata": {},
   "outputs": [],
   "source": []
  },
  {
   "cell_type": "code",
   "execution_count": 2,
   "metadata": {},
   "outputs": [],
   "source": [
    "page = requests.get(\"https://www.last.fm/music/Ween/The+Mollusk\")\n",
    "soup = BeautifulSoup(page.content, 'html.parser')"
   ]
  },
  {
   "cell_type": "code",
   "execution_count": 7,
   "metadata": {},
   "outputs": [],
   "source": [
    "tracks = soup.find_all(class_ = 'chartlist-ellipsis-wrap')"
   ]
  },
  {
   "cell_type": "code",
   "execution_count": 51,
   "metadata": {},
   "outputs": [
    {
     "data": {
      "text/plain": [
       "'The Mollusk'"
      ]
     },
     "execution_count": 51,
     "metadata": {},
     "output_type": "execute_result"
    }
   ],
   "source": [
    "soup.find(class_ = 'header-title').text.strip()"
   ]
  },
  {
   "cell_type": "code",
   "execution_count": 30,
   "metadata": {},
   "outputs": [],
   "source": [
    "tr1 = tracks[0]\n",
    "paste = tr1.find(class_ = 'link-block-target')['href']"
   ]
  },
  {
   "cell_type": "code",
   "execution_count": 32,
   "metadata": {},
   "outputs": [],
   "source": [
    "link = \"https://www.last.fm/\" + paste"
   ]
  },
  {
   "cell_type": "code",
   "execution_count": 33,
   "metadata": {},
   "outputs": [],
   "source": [
    "tr_page = requests.get(link)\n",
    "tr_soup = BeautifulSoup(tr_page.content, 'html.parser')"
   ]
  },
  {
   "cell_type": "code",
   "execution_count": 47,
   "metadata": {},
   "outputs": [
    {
     "data": {
      "text/plain": [
       "\"I'm Dancing in the Show Tonight\""
      ]
     },
     "execution_count": 47,
     "metadata": {},
     "output_type": "execute_result"
    }
   ],
   "source": [
    "end = tr_soup.find(class_ = 'header-title').text.strip().find('\\n')\n",
    "tr_soup.find(class_ = 'header-title').text.strip()[:end]"
   ]
  },
  {
   "cell_type": "code",
   "execution_count": null,
   "metadata": {},
   "outputs": [],
   "source": []
  },
  {
   "cell_type": "code",
   "execution_count": 40,
   "metadata": {},
   "outputs": [
    {
     "data": {
      "text/plain": [
       "'43.7K'"
      ]
     },
     "execution_count": 40,
     "metadata": {},
     "output_type": "execute_result"
    }
   ],
   "source": [
    "data = tr_soup.find(class_ = 'header-metadata').find_all(class_ = \"intabbr\")\n",
    "data[0].text\n",
    "data[1].text"
   ]
  }
 ],
 "metadata": {
  "kernelspec": {
   "display_name": "Python 3",
   "language": "python",
   "name": "python3"
  },
  "language_info": {
   "codemirror_mode": {
    "name": "ipython",
    "version": 3
   },
   "file_extension": ".py",
   "mimetype": "text/x-python",
   "name": "python",
   "nbconvert_exporter": "python",
   "pygments_lexer": "ipython3",
   "version": "3.6.5"
  },
  "varInspector": {
   "cols": {
    "lenName": 16,
    "lenType": 16,
    "lenVar": 40
   },
   "kernels_config": {
    "python": {
     "delete_cmd_postfix": "",
     "delete_cmd_prefix": "del ",
     "library": "var_list.py",
     "varRefreshCmd": "print(var_dic_list())"
    },
    "r": {
     "delete_cmd_postfix": ") ",
     "delete_cmd_prefix": "rm(",
     "library": "var_list.r",
     "varRefreshCmd": "cat(var_dic_list()) "
    }
   },
   "types_to_exclude": [
    "module",
    "function",
    "builtin_function_or_method",
    "instance",
    "_Feature"
   ],
   "window_display": false
  }
 },
 "nbformat": 4,
 "nbformat_minor": 2
}
